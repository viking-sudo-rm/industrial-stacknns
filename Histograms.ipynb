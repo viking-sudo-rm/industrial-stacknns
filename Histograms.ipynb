{
 "cells": [
  {
   "cell_type": "code",
   "execution_count": 1,
   "metadata": {},
   "outputs": [
    {
     "name": "stdout",
     "output_type": "stream",
     "text": [
      "Better speed can be achieved with apex installed from https://www.github.com/nvidia/apex.\n"
     ]
    }
   ],
   "source": [
    "%matplotlib inline\n",
    "\n",
    "from allennlp.data.vocabulary import Vocabulary\n",
    "from stack_rnn_LM import StackRNNLanguageModel\n",
    "from stack_rnn import StackRNNAgreementPredictor\n",
    "\n",
    "import matplotlib.pyplot as plt\n",
    "import torch\n",
    "from matplotlib.widgets import Slider\n",
    "\n",
    "import numpy as np\n",
    "\n",
    "import seaborn as sns"
   ]
  },
  {
   "cell_type": "code",
   "execution_count": 2,
   "metadata": {},
   "outputs": [],
   "source": [
    "import pandas as pd"
   ]
  },
  {
   "cell_type": "code",
   "execution_count": 9,
   "metadata": {},
   "outputs": [
    {
     "ename": "RuntimeError",
     "evalue": "Error(s) in loading state_dict for StackRNNLanguageModel:\n\tsize mismatch for _embedder.token_embedder_tokens.weight: copying a param with shape torch.Size([10000, 314]) from checkpoint, the shape in current model is torch.Size([10000, 9968]).\n\tsize mismatch for _rnn_cell.weight_ih: copying a param with shape torch.Size([400, 330]) from checkpoint, the shape in current model is torch.Size([300, 9984]).\n\tsize mismatch for _rnn_cell.weight_hh: copying a param with shape torch.Size([400, 100]) from checkpoint, the shape in current model is torch.Size([300, 100]).\n\tsize mismatch for _rnn_cell.bias_ih: copying a param with shape torch.Size([400]) from checkpoint, the shape in current model is torch.Size([300]).\n\tsize mismatch for _rnn_cell.bias_hh: copying a param with shape torch.Size([400]) from checkpoint, the shape in current model is torch.Size([300]).\n\tsize mismatch for _classifier.weight: copying a param with shape torch.Size([314, 100]) from checkpoint, the shape in current model is torch.Size([9968, 100]).\n\tsize mismatch for _classifier.bias: copying a param with shape torch.Size([314]) from checkpoint, the shape in current model is torch.Size([9968]).",
     "output_type": "error",
     "traceback": [
      "\u001b[0;31m---------------------------------------------------------------------------\u001b[0m",
      "\u001b[0;31mRuntimeError\u001b[0m                              Traceback (most recent call last)",
      "\u001b[0;32m<ipython-input-9-1ab8f518bf9e>\u001b[0m in \u001b[0;36m<module>\u001b[0;34m\u001b[0m\n\u001b[1;32m     37\u001b[0m \u001b[0mmodel\u001b[0m \u001b[0;34m=\u001b[0m \u001b[0mStackRNNLanguageModel\u001b[0m\u001b[0;34m(\u001b[0m\u001b[0mvocab\u001b[0m\u001b[0;34m,\u001b[0m \u001b[0mrnn_dim\u001b[0m\u001b[0;34m=\u001b[0m\u001b[0;36m100\u001b[0m\u001b[0;34m,\u001b[0m \u001b[0mstack_dim\u001b[0m\u001b[0;34m=\u001b[0m\u001b[0;36m16\u001b[0m\u001b[0;34m,\u001b[0m \u001b[0mrnn_cell_type\u001b[0m\u001b[0;34m=\u001b[0m\u001b[0mtorch\u001b[0m\u001b[0;34m.\u001b[0m\u001b[0mnn\u001b[0m\u001b[0;34m.\u001b[0m\u001b[0mGRUCell\u001b[0m\u001b[0;34m)\u001b[0m\u001b[0;34m\u001b[0m\u001b[0m\n\u001b[1;32m     38\u001b[0m \u001b[0;32mwith\u001b[0m \u001b[0mopen\u001b[0m\u001b[0;34m(\u001b[0m\u001b[0;34m\"saved_models/stack-brown.th\"\u001b[0m\u001b[0;34m,\u001b[0m \u001b[0;34m\"rb\"\u001b[0m\u001b[0;34m)\u001b[0m \u001b[0;32mas\u001b[0m \u001b[0mfh\u001b[0m\u001b[0;34m:\u001b[0m\u001b[0;34m\u001b[0m\u001b[0m\n\u001b[0;32m---> 39\u001b[0;31m     \u001b[0mmodel\u001b[0m\u001b[0;34m.\u001b[0m\u001b[0mload_state_dict\u001b[0m\u001b[0;34m(\u001b[0m\u001b[0mtorch\u001b[0m\u001b[0;34m.\u001b[0m\u001b[0mload\u001b[0m\u001b[0;34m(\u001b[0m\u001b[0mfh\u001b[0m\u001b[0;34m)\u001b[0m\u001b[0;34m)\u001b[0m\u001b[0;34m\u001b[0m\u001b[0m\n\u001b[0m\u001b[1;32m     40\u001b[0m \u001b[0;34m\u001b[0m\u001b[0m\n\u001b[1;32m     41\u001b[0m \u001b[0mres\u001b[0m \u001b[0;34m=\u001b[0m \u001b[0mmodel\u001b[0m\u001b[0;34m.\u001b[0m\u001b[0mforward\u001b[0m\u001b[0;34m(\u001b[0m\u001b[0meg\u001b[0m\u001b[0;34m)\u001b[0m\u001b[0;34m\u001b[0m\u001b[0m\n",
      "\u001b[0;32m/usr/local/Cellar/python3/3.6.3/Frameworks/Python.framework/Versions/3.6/lib/python3.6/site-packages/torch/nn/modules/module.py\u001b[0m in \u001b[0;36mload_state_dict\u001b[0;34m(self, state_dict, strict)\u001b[0m\n\u001b[1;32m    767\u001b[0m         \u001b[0;32mif\u001b[0m \u001b[0mlen\u001b[0m\u001b[0;34m(\u001b[0m\u001b[0merror_msgs\u001b[0m\u001b[0;34m)\u001b[0m \u001b[0;34m>\u001b[0m \u001b[0;36m0\u001b[0m\u001b[0;34m:\u001b[0m\u001b[0;34m\u001b[0m\u001b[0m\n\u001b[1;32m    768\u001b[0m             raise RuntimeError('Error(s) in loading state_dict for {}:\\n\\t{}'.format(\n\u001b[0;32m--> 769\u001b[0;31m                                self.__class__.__name__, \"\\n\\t\".join(error_msgs)))\n\u001b[0m\u001b[1;32m    770\u001b[0m \u001b[0;34m\u001b[0m\u001b[0m\n\u001b[1;32m    771\u001b[0m     \u001b[0;32mdef\u001b[0m \u001b[0m_named_members\u001b[0m\u001b[0;34m(\u001b[0m\u001b[0mself\u001b[0m\u001b[0;34m,\u001b[0m \u001b[0mget_members_fn\u001b[0m\u001b[0;34m,\u001b[0m \u001b[0mprefix\u001b[0m\u001b[0;34m=\u001b[0m\u001b[0;34m''\u001b[0m\u001b[0;34m,\u001b[0m \u001b[0mrecurse\u001b[0m\u001b[0;34m=\u001b[0m\u001b[0;32mTrue\u001b[0m\u001b[0;34m)\u001b[0m\u001b[0;34m:\u001b[0m\u001b[0;34m\u001b[0m\u001b[0m\n",
      "\u001b[0;31mRuntimeError\u001b[0m: Error(s) in loading state_dict for StackRNNLanguageModel:\n\tsize mismatch for _embedder.token_embedder_tokens.weight: copying a param with shape torch.Size([10000, 314]) from checkpoint, the shape in current model is torch.Size([10000, 9968]).\n\tsize mismatch for _rnn_cell.weight_ih: copying a param with shape torch.Size([400, 330]) from checkpoint, the shape in current model is torch.Size([300, 9984]).\n\tsize mismatch for _rnn_cell.weight_hh: copying a param with shape torch.Size([400, 100]) from checkpoint, the shape in current model is torch.Size([300, 100]).\n\tsize mismatch for _rnn_cell.bias_ih: copying a param with shape torch.Size([400]) from checkpoint, the shape in current model is torch.Size([300]).\n\tsize mismatch for _rnn_cell.bias_hh: copying a param with shape torch.Size([400]) from checkpoint, the shape in current model is torch.Size([300]).\n\tsize mismatch for _classifier.weight: copying a param with shape torch.Size([314, 100]) from checkpoint, the shape in current model is torch.Size([9968, 100]).\n\tsize mismatch for _classifier.bias: copying a param with shape torch.Size([314]) from checkpoint, the shape in current model is torch.Size([9968])."
     ]
    }
   ],
   "source": [
    "eg = {'tokens': torch.tensor([[17, 19, 12, 32, 25, 13,  6, 15, 25, 28, 11,  6, 12, 31, 26,  7,  6,  3,\n",
    "          5, 39, 10, 34,  5, 39,  2,  3, 46,  3,  7,  3,  4,  2,  8,  0,  0],\n",
    "        [ 4,  2, 11, 14,  3,  4,  9, 54,  2, 32, 47, 45,  3,  2,  3, 18,  7,  3,\n",
    "          4,  2,  3,  7,  6,  7, 10,  7, 10,  4,  2,  3,  7, 10,  2,  8,  0],\n",
    "        [11, 15,  4, 17,  2,  3,  7, 37, 36, 34,  7,  3,  4, 13,  7,  2, 10,  3,\n",
    "          2, 10,  2,  7, 37, 36, 34,  7,  3,  4,  2, 29, 19, 12,  8,  0,  0],\n",
    "        [ 4,  2, 33, 19, 30, 13, 32, 60, 34, 12,  3,  4,  2,  3,  4,  2,  3,  4,\n",
    "          2, 15,  7,  3,  4,  5,  2, 40, 19, 30, 13,  3,  4,  5,  2,  8,  0],\n",
    "        [16, 24, 46, 26,  7,  3, 53, 10, 53, 39, 26,  6, 27, 24,  6, 15, 46, 32,\n",
    "         12,  2, 10,  5,  2, 39, 32, 21, 11, 12, 11,  8,  0,  0,  0,  0,  0],\n",
    "        [ 4,  2, 15, 21, 14, 19, 12,  3,  4,  2, 24, 11, 13, 11, 35, 20,  3, 23,\n",
    "          6, 17,  3,  4,  2,  3,  2,  2,  6, 29,  4,  2,  3,  5,  7, 11,  8],\n",
    "        [ 3,  4,  2,  3,  7,  4,  2,  2, 14, 20,  7,  6, 27, 20, 17, 20, 20,  7,\n",
    "         39, 20, 40,  3,  2,  3,  4, 53, 10, 20,  3,  2,  7,  3,  4, 53,  8],\n",
    "        [ 2,  7, 10,  2,  7, 38, 13,  3,  4,  5,  2,  3, 13,  7, 39,  7,  5,  3,\n",
    "          4,  5,  7,  5, 49, 10, 20,  9,  7,  7,  5,  3,  5,  7,  5, 48,  8],\n",
    "        [11,  3,  4,  2, 15, 17,  7, 10,  7, 12, 28, 11,  3,  4,  2,  6,  4, 51,\n",
    "          2, 19, 56, 24, 19, 12, 31, 32,  6, 15, 42,  6, 21, 36,  8,  0,  0],\n",
    "        [10, 18,  2, 11, 11, 24,  3,  4, 11, 17,  5,  2,  3,  5,  6, 10, 16, 11,\n",
    "         29,  3,  5,  5,  7,  3, 27,  2, 15,  4,  5, 10,  5,  2,  8,  0,  0],\n",
    "        [11,  3,  4,  2,  3,  4,  2,  6, 35,  2, 47, 45, 13, 63, 11, 10, 11,  6,\n",
    "          4, 13,  2,  7, 12,  3,  3, 26, 20,  7,  3,  2,  8,  0,  0,  0,  0],\n",
    "        [15, 16, 29, 31,  6,  4,  5,  2, 62, 12,  3,  4,  5,  2,  6, 10,  4, 28,\n",
    "          5,  4,  2,  6,  4, 28, 13, 10,  5, 24,  4,  2,  8,  0,  0,  0,  0],\n",
    "        [10,  4,  5,  7,  3,  2, 22, 11, 30,  5,  6, 10, 21, 22, 11, 38, 19, 12,\n",
    "         31,  4,  2,  3,  7, 21, 12, 19, 12,  3, 27,  2,  8,  0,  0,  0,  0],\n",
    "        [26,  3, 23,  6, 11,  6, 36, 17, 19, 12,  3,  4,  2,  3,  5,  7, 10, 19,\n",
    "         12,  4,  5,  2,  3,  4,  2,  2,  6,  4,  2,  6, 10,  4,  2,  8,  0],\n",
    "        [ 4,  2,  3,  2, 47, 45, 13,  3, 17,  4,  2,  3,  4,  7, 15, 15, 46,  3,\n",
    "          4,  5,  2,  3,  4,  2, 36, 28, 52, 15, 46,  3,  5,  8,  0,  0,  0],\n",
    "        [ 9, 29,  3,  5,  2,  3,  9, 14,  7,  6,  3,  3, 20,  3,  2, 13,  3,  9,\n",
    "          6, 20,  6,  9,  9,  9,  6,  9,  2,  6, 14,  8,  0,  0,  0,  0,  0]])}\n",
    "\n",
    "\n",
    "#\"\"\"\n",
    "vocab = Vocabulary.from_files(\"saved_models/vocabulary\") #from_instances(train_dataset)\n",
    "model = StackRNNLanguageModel(vocab, rnn_dim=100, stack_dim=16, rnn_cell_type=torch.nn.GRUCell)\n",
    "with open(\"saved_models/stack-brown.th\", \"rb\") as fh:\n",
    "    model.load_state_dict(torch.load(fh))\n",
    "\n",
    "res = model.forward(eg)"
   ]
  },
  {
   "cell_type": "code",
   "execution_count": 4,
   "metadata": {},
   "outputs": [
    {
     "data": {
      "text/plain": [
       "torch.Size([2, 4])"
      ]
     },
     "execution_count": 4,
     "metadata": {},
     "output_type": "execute_result"
    }
   ],
   "source": [
    "torch.LongTensor([[4, 9, 2, 5],[4, 9, 2, 5]]).shape"
   ]
  },
  {
   "cell_type": "code",
   "execution_count": 5,
   "metadata": {},
   "outputs": [
    {
     "data": {
      "text/plain": [
       "torch.Size([1, 4])"
      ]
     },
     "execution_count": 5,
     "metadata": {},
     "output_type": "execute_result"
    }
   ],
   "source": [
    "torch.LongTensor([[4, 9, 2, 5]]).shape"
   ]
  },
  {
   "cell_type": "code",
   "execution_count": 6,
   "metadata": {},
   "outputs": [],
   "source": [
    "\n",
    "res = model({\"tokens\": torch.LongTensor([[1,2,1,2,1]])})"
   ]
  },
  {
   "cell_type": "code",
   "execution_count": 7,
   "metadata": {},
   "outputs": [
    {
     "data": {
      "text/plain": [
       "{'prediction': tensor(1.)}"
      ]
     },
     "execution_count": 7,
     "metadata": {},
     "output_type": "execute_result"
    }
   ],
   "source": [
    "res"
   ]
  },
  {
   "cell_type": "code",
   "execution_count": 278,
   "metadata": {},
   "outputs": [
    {
     "ename": "TypeError",
     "evalue": "iteration over a 0-d tensor",
     "output_type": "error",
     "traceback": [
      "\u001b[0;31m---------------------------------------------------------------------------\u001b[0m",
      "\u001b[0;31mTypeError\u001b[0m                                 Traceback (most recent call last)",
      "\u001b[0;32m<ipython-input-278-b5433f12f0e8>\u001b[0m in \u001b[0;36m<module>\u001b[0;34m\u001b[0m\n\u001b[0;32m----> 1\u001b[0;31m \u001b[0mmodel\u001b[0m\u001b[0;34m(\u001b[0m\u001b[0;34m{\u001b[0m\u001b[0;34m\"tokens\"\u001b[0m\u001b[0;34m:\u001b[0m \u001b[0mtorch\u001b[0m\u001b[0;34m.\u001b[0m\u001b[0mLongTensor\u001b[0m\u001b[0;34m(\u001b[0m\u001b[0;34m[\u001b[0m\u001b[0;34m[\u001b[0m\u001b[0;36m4\u001b[0m\u001b[0;34m,\u001b[0m \u001b[0;36m9\u001b[0m\u001b[0;34m,\u001b[0m \u001b[0;36m2\u001b[0m\u001b[0;34m,\u001b[0m \u001b[0;36m5\u001b[0m\u001b[0;34m]\u001b[0m\u001b[0;34m]\u001b[0m\u001b[0;34m)\u001b[0m\u001b[0;34m}\u001b[0m\u001b[0;34m)\u001b[0m\u001b[0;34m\u001b[0m\u001b[0m\n\u001b[0m",
      "\u001b[0;32m/usr/local/Cellar/python3/3.6.3/Frameworks/Python.framework/Versions/3.6/lib/python3.6/site-packages/torch/nn/modules/module.py\u001b[0m in \u001b[0;36m__call__\u001b[0;34m(self, *input, **kwargs)\u001b[0m\n\u001b[1;32m    487\u001b[0m             \u001b[0mresult\u001b[0m \u001b[0;34m=\u001b[0m \u001b[0mself\u001b[0m\u001b[0;34m.\u001b[0m\u001b[0m_slow_forward\u001b[0m\u001b[0;34m(\u001b[0m\u001b[0;34m*\u001b[0m\u001b[0minput\u001b[0m\u001b[0;34m,\u001b[0m \u001b[0;34m**\u001b[0m\u001b[0mkwargs\u001b[0m\u001b[0;34m)\u001b[0m\u001b[0;34m\u001b[0m\u001b[0m\n\u001b[1;32m    488\u001b[0m         \u001b[0;32melse\u001b[0m\u001b[0;34m:\u001b[0m\u001b[0;34m\u001b[0m\u001b[0m\n\u001b[0;32m--> 489\u001b[0;31m             \u001b[0mresult\u001b[0m \u001b[0;34m=\u001b[0m \u001b[0mself\u001b[0m\u001b[0;34m.\u001b[0m\u001b[0mforward\u001b[0m\u001b[0;34m(\u001b[0m\u001b[0;34m*\u001b[0m\u001b[0minput\u001b[0m\u001b[0;34m,\u001b[0m \u001b[0;34m**\u001b[0m\u001b[0mkwargs\u001b[0m\u001b[0;34m)\u001b[0m\u001b[0;34m\u001b[0m\u001b[0m\n\u001b[0m\u001b[1;32m    490\u001b[0m         \u001b[0;32mfor\u001b[0m \u001b[0mhook\u001b[0m \u001b[0;32min\u001b[0m \u001b[0mself\u001b[0m\u001b[0;34m.\u001b[0m\u001b[0m_forward_hooks\u001b[0m\u001b[0;34m.\u001b[0m\u001b[0mvalues\u001b[0m\u001b[0;34m(\u001b[0m\u001b[0;34m)\u001b[0m\u001b[0;34m:\u001b[0m\u001b[0;34m\u001b[0m\u001b[0m\n\u001b[1;32m    491\u001b[0m             \u001b[0mhook_result\u001b[0m \u001b[0;34m=\u001b[0m \u001b[0mhook\u001b[0m\u001b[0;34m(\u001b[0m\u001b[0mself\u001b[0m\u001b[0;34m,\u001b[0m \u001b[0minput\u001b[0m\u001b[0;34m,\u001b[0m \u001b[0mresult\u001b[0m\u001b[0;34m)\u001b[0m\u001b[0;34m\u001b[0m\u001b[0m\n",
      "\u001b[0;32m~/Documents/Sophomore/CLAY/Code/industrial-stacknns/stack_rnn.py\u001b[0m in \u001b[0;36mforward\u001b[0;34m(self, sentence, label)\u001b[0m\n\u001b[1;32m     61\u001b[0m       self._pop_strength(torch.mean(\n\u001b[1;32m     62\u001b[0m           instructions.push_strengths - instructions.pop_strengths))\n\u001b[0;32m---> 63\u001b[0;31m       \u001b[0;32mif\u001b[0m \u001b[0mself\u001b[0m\u001b[0;34m.\u001b[0m\u001b[0m_push_rnn_state\u001b[0m\u001b[0;34m:\u001b[0m\u001b[0;34m\u001b[0m\u001b[0m\n\u001b[0m\u001b[1;32m     64\u001b[0m         \u001b[0minstructions\u001b[0m\u001b[0;34m.\u001b[0m\u001b[0mpush_vectors\u001b[0m \u001b[0;34m=\u001b[0m \u001b[0mh\u001b[0m\u001b[0;34m\u001b[0m\u001b[0m\n\u001b[1;32m     65\u001b[0m       \u001b[0mstack_summary\u001b[0m \u001b[0;34m=\u001b[0m \u001b[0mstack\u001b[0m\u001b[0;34m(\u001b[0m\u001b[0;34m*\u001b[0m\u001b[0minstructions\u001b[0m\u001b[0;34m.\u001b[0m\u001b[0mmake_tuple\u001b[0m\u001b[0;34m(\u001b[0m\u001b[0;34m)\u001b[0m\u001b[0;34m)\u001b[0m\u001b[0;34m\u001b[0m\u001b[0m\n",
      "\u001b[0;32m/usr/local/Cellar/python3/3.6.3/Frameworks/Python.framework/Versions/3.6/lib/python3.6/site-packages/torch/nn/modules/module.py\u001b[0m in \u001b[0;36m__call__\u001b[0;34m(self, *input, **kwargs)\u001b[0m\n\u001b[1;32m    487\u001b[0m             \u001b[0mresult\u001b[0m \u001b[0;34m=\u001b[0m \u001b[0mself\u001b[0m\u001b[0;34m.\u001b[0m\u001b[0m_slow_forward\u001b[0m\u001b[0;34m(\u001b[0m\u001b[0;34m*\u001b[0m\u001b[0minput\u001b[0m\u001b[0;34m,\u001b[0m \u001b[0;34m**\u001b[0m\u001b[0mkwargs\u001b[0m\u001b[0;34m)\u001b[0m\u001b[0;34m\u001b[0m\u001b[0m\n\u001b[1;32m    488\u001b[0m         \u001b[0;32melse\u001b[0m\u001b[0;34m:\u001b[0m\u001b[0;34m\u001b[0m\u001b[0m\n\u001b[0;32m--> 489\u001b[0;31m             \u001b[0mresult\u001b[0m \u001b[0;34m=\u001b[0m \u001b[0mself\u001b[0m\u001b[0;34m.\u001b[0m\u001b[0mforward\u001b[0m\u001b[0;34m(\u001b[0m\u001b[0;34m*\u001b[0m\u001b[0minput\u001b[0m\u001b[0;34m,\u001b[0m \u001b[0;34m**\u001b[0m\u001b[0mkwargs\u001b[0m\u001b[0;34m)\u001b[0m\u001b[0;34m\u001b[0m\u001b[0m\n\u001b[0m\u001b[1;32m    490\u001b[0m         \u001b[0;32mfor\u001b[0m \u001b[0mhook\u001b[0m \u001b[0;32min\u001b[0m \u001b[0mself\u001b[0m\u001b[0;34m.\u001b[0m\u001b[0m_forward_hooks\u001b[0m\u001b[0;34m.\u001b[0m\u001b[0mvalues\u001b[0m\u001b[0;34m(\u001b[0m\u001b[0;34m)\u001b[0m\u001b[0;34m:\u001b[0m\u001b[0;34m\u001b[0m\u001b[0m\n\u001b[1;32m    491\u001b[0m             \u001b[0mhook_result\u001b[0m \u001b[0;34m=\u001b[0m \u001b[0mhook\u001b[0m\u001b[0;34m(\u001b[0m\u001b[0mself\u001b[0m\u001b[0;34m,\u001b[0m \u001b[0minput\u001b[0m\u001b[0;34m,\u001b[0m \u001b[0mresult\u001b[0m\u001b[0;34m)\u001b[0m\u001b[0;34m\u001b[0m\u001b[0m\n",
      "\u001b[0;32m~/Documents/Sophomore/CLAY/Code/industrial-stacknns/StackNN/structs/base.py\u001b[0m in \u001b[0;36mforward\u001b[0;34m(self, v, u, d, r)\u001b[0m\n\u001b[1;32m     71\u001b[0m         \u001b[0;34m:\u001b[0m\u001b[0;32mreturn\u001b[0m\u001b[0;34m:\u001b[0m \u001b[0mThe\u001b[0m \u001b[0mvalue\u001b[0m \u001b[0mread\u001b[0m \u001b[0;32mfrom\u001b[0m \u001b[0mthe\u001b[0m \u001b[0mdata\u001b[0m \u001b[0mstructure\u001b[0m\u001b[0;34m\u001b[0m\u001b[0m\n\u001b[1;32m     72\u001b[0m         \"\"\"\n\u001b[0;32m---> 73\u001b[0;31m         \u001b[0mself\u001b[0m\u001b[0;34m.\u001b[0m\u001b[0mpop\u001b[0m\u001b[0;34m(\u001b[0m\u001b[0mu\u001b[0m\u001b[0;34m)\u001b[0m\u001b[0;34m\u001b[0m\u001b[0m\n\u001b[0m\u001b[1;32m     74\u001b[0m         \u001b[0mself\u001b[0m\u001b[0;34m.\u001b[0m\u001b[0mpush\u001b[0m\u001b[0;34m(\u001b[0m\u001b[0mv\u001b[0m\u001b[0;34m,\u001b[0m \u001b[0md\u001b[0m\u001b[0;34m)\u001b[0m\u001b[0;34m\u001b[0m\u001b[0m\n\u001b[1;32m     75\u001b[0m \u001b[0;34m\u001b[0m\u001b[0m\n",
      "\u001b[0;32m~/Documents/Sophomore/CLAY/Code/industrial-stacknns/StackNN/structs/simple.py\u001b[0m in \u001b[0;36mpop\u001b[0;34m(self, strength)\u001b[0m\n\u001b[1;32m    193\u001b[0m         \u001b[0;32mfor\u001b[0m \u001b[0mi\u001b[0m \u001b[0;32min\u001b[0m \u001b[0mself\u001b[0m\u001b[0;34m.\u001b[0m\u001b[0m_pop_indices\u001b[0m\u001b[0;34m(\u001b[0m\u001b[0;34m)\u001b[0m\u001b[0;34m:\u001b[0m\u001b[0;34m\u001b[0m\u001b[0m\n\u001b[1;32m    194\u001b[0m             \u001b[0mlocal_strength\u001b[0m \u001b[0;34m=\u001b[0m \u001b[0mrelu\u001b[0m\u001b[0;34m(\u001b[0m\u001b[0mself\u001b[0m\u001b[0;34m.\u001b[0m\u001b[0m_strengths\u001b[0m\u001b[0;34m[\u001b[0m\u001b[0mi\u001b[0m\u001b[0;34m]\u001b[0m \u001b[0;34m-\u001b[0m \u001b[0mstrength\u001b[0m\u001b[0;34m)\u001b[0m\u001b[0;34m\u001b[0m\u001b[0m\n\u001b[0;32m--> 195\u001b[0;31m             \u001b[0mstrength\u001b[0m \u001b[0;34m=\u001b[0m \u001b[0mrelu\u001b[0m\u001b[0;34m(\u001b[0m\u001b[0mstrength\u001b[0m \u001b[0;34m-\u001b[0m \u001b[0mself\u001b[0m\u001b[0;34m.\u001b[0m\u001b[0m_strengths\u001b[0m\u001b[0;34m[\u001b[0m\u001b[0mi\u001b[0m\u001b[0;34m]\u001b[0m\u001b[0;34m)\u001b[0m\u001b[0;34m\u001b[0m\u001b[0m\n\u001b[0m\u001b[1;32m    196\u001b[0m             \u001b[0mself\u001b[0m\u001b[0;34m.\u001b[0m\u001b[0m_strengths\u001b[0m\u001b[0;34m[\u001b[0m\u001b[0mi\u001b[0m\u001b[0;34m]\u001b[0m \u001b[0;34m=\u001b[0m \u001b[0mlocal_strength\u001b[0m\u001b[0;34m\u001b[0m\u001b[0m\n\u001b[1;32m    197\u001b[0m             \u001b[0;31m# TODO: Should we remove values if they are all zero?\u001b[0m\u001b[0;34m\u001b[0m\u001b[0;34m\u001b[0m\u001b[0m\n",
      "\u001b[0;32m/usr/local/Cellar/python3/3.6.3/Frameworks/Python.framework/Versions/3.6/lib/python3.6/site-packages/torch/tensor.py\u001b[0m in \u001b[0;36m__iter__\u001b[0;34m(self)\u001b[0m\n\u001b[1;32m    420\u001b[0m         \u001b[0;31m# map will interleave them.)\u001b[0m\u001b[0;34m\u001b[0m\u001b[0;34m\u001b[0m\u001b[0m\n\u001b[1;32m    421\u001b[0m         \u001b[0;32mif\u001b[0m \u001b[0mself\u001b[0m\u001b[0;34m.\u001b[0m\u001b[0mdim\u001b[0m\u001b[0;34m(\u001b[0m\u001b[0;34m)\u001b[0m \u001b[0;34m==\u001b[0m \u001b[0;36m0\u001b[0m\u001b[0;34m:\u001b[0m\u001b[0;34m\u001b[0m\u001b[0m\n\u001b[0;32m--> 422\u001b[0;31m             \u001b[0;32mraise\u001b[0m \u001b[0mTypeError\u001b[0m\u001b[0;34m(\u001b[0m\u001b[0;34m'iteration over a 0-d tensor'\u001b[0m\u001b[0;34m)\u001b[0m\u001b[0;34m\u001b[0m\u001b[0m\n\u001b[0m\u001b[1;32m    423\u001b[0m         \u001b[0;32mif\u001b[0m \u001b[0mtorch\u001b[0m\u001b[0;34m.\u001b[0m\u001b[0m_C\u001b[0m\u001b[0;34m.\u001b[0m\u001b[0m_get_tracing_state\u001b[0m\u001b[0;34m(\u001b[0m\u001b[0;34m)\u001b[0m\u001b[0;34m:\u001b[0m\u001b[0;34m\u001b[0m\u001b[0m\n\u001b[1;32m    424\u001b[0m             warnings.warn('Iterating over a tensor might cause the trace to be incorrect. '\n",
      "\u001b[0;31mTypeError\u001b[0m: iteration over a 0-d tensor"
     ]
    }
   ],
   "source": [
    "model({\"tokens\": torch.LongTensor([[4, 9, 2, 5]])})"
   ]
  },
  {
   "cell_type": "code",
   "execution_count": 269,
   "metadata": {},
   "outputs": [
    {
     "name": "stdout",
     "output_type": "stream",
     "text": [
      "0\n"
     ]
    }
   ],
   "source": [
    "print(strength.dim())"
   ]
  },
  {
   "cell_type": "code",
   "execution_count": 266,
   "metadata": {},
   "outputs": [],
   "source": [
    "strength = torch.tensor(1.2)"
   ]
  },
  {
   "cell_type": "code",
   "execution_count": 259,
   "metadata": {},
   "outputs": [],
   "source": [
    "strength = torch.Tensor([0])"
   ]
  },
  {
   "cell_type": "code",
   "execution_count": 260,
   "metadata": {},
   "outputs": [
    {
     "name": "stdout",
     "output_type": "stream",
     "text": [
      "hi\n"
     ]
    }
   ],
   "source": [
    "if (strength.dim()==0 and strength==0) or (strength.dim() > 0 and all(strength == 0)):\n",
    "    print(\"hi\")"
   ]
  },
  {
   "cell_type": "code",
   "execution_count": 248,
   "metadata": {},
   "outputs": [
    {
     "name": "stdout",
     "output_type": "stream",
     "text": [
      "hi\n"
     ]
    }
   ],
   "source": [
    "if (strength.dim==0 and strength==0) or all(strength == 0):\n",
    "    print(\"hi\")"
   ]
  },
  {
   "cell_type": "code",
   "execution_count": 212,
   "metadata": {},
   "outputs": [
    {
     "data": {
      "text/plain": [
       "tensor([[0.9761, 0.0080, 0.0105, 0.0054],\n",
       "        [0.9761, 0.0080, 0.0105, 0.0054]], grad_fn=<SoftmaxBackward>)"
      ]
     },
     "execution_count": 212,
     "metadata": {},
     "output_type": "execute_result"
    }
   ],
   "source": [
    "res['instructions'][0].pop_distributions"
   ]
  },
  {
   "cell_type": "code",
   "execution_count": 25,
   "metadata": {},
   "outputs": [],
   "source": [
    "frame = pd.DataFrame({\"type\":[\"A\"]*3+[\"B\"]*3, \"val\":s1+s2, \"x\":[1,2,3]*2})"
   ]
  },
  {
   "cell_type": "code",
   "execution_count": 34,
   "metadata": {},
   "outputs": [
    {
     "data": {
      "text/plain": [
       "<matplotlib.axes._subplots.AxesSubplot at 0x11b31c4e0>"
      ]
     },
     "execution_count": 34,
     "metadata": {},
     "output_type": "execute_result"
    },
    {
     "data": {
      "image/png": "[encoded data removed]",
      "text/plain": [
       "<Figure size 432x288 with 2 Axes>"
      ]
     },
     "metadata": {
      "needs_background": "light"
     },
     "output_type": "display_data"
    }
   ],
   "source": [
    "plt.subplot(1,2,1)\n",
    "sns.barplot(x=\"x\", y=\"val\", hue=\"type\", data=frame)\n",
    "plt.subplot(1,2,2)\n",
    "sns.barplot(x=\"x\", y=\"val\", hue=\"type\", data=frame)\n"
   ]
  },
  {
   "cell_type": "code",
   "execution_count": 33,
   "metadata": {},
   "outputs": [],
   "source": [
    "plt.subplot?"
   ]
  },
  {
   "cell_type": "code",
   "execution_count": null,
   "metadata": {},
   "outputs": [],
   "source": []
  },
  {
   "cell_type": "code",
   "execution_count": 183,
   "metadata": {},
   "outputs": [],
   "source": [
    "x=np.array([1,2,3])/10.\n",
    "s1 = np.array([7,7,2])/10.\n",
    "s2 = np.array([3,3,10,5])/10."
   ]
  },
  {
   "cell_type": "code",
   "execution_count": null,
   "metadata": {},
   "outputs": [],
   "source": []
  },
  {
   "cell_type": "code",
   "execution_count": 12,
   "metadata": {},
   "outputs": [],
   "source": [
    "def mybar(ser1, lab1, ser2, lab2, cat_label, ax=None):\n",
    "    y_label = \"Probability\"\n",
    "    n = len(ser1)\n",
    "    df1 = pd.DataFrame({\"type\": lab1, \n",
    "                          y_label: ser1, \n",
    "                          cat_label: list(range(len(ser1)))})\n",
    "    df2 = pd.DataFrame({\"type\": lab2, \n",
    "                          y_label: ser2, \n",
    "                          cat_label: list(range(len(ser2)))})\n",
    "    sns.barplot(x=cat_label, y=y_label, hue=\"type\", data=pd.concat([df1, df2], ignore_index=True), ax=ax)\n",
    "    \n",
    "    '''   plt.tick_params(\n",
    "    axis='x',          # changes apply to the x-axis\n",
    "    which='both',      # both major and minor ticks are affected\n",
    "    bottom=False,      # ticks along the bottom edge are off\n",
    "    top=False,         # ticks along the top edge are off\n",
    "    labelbottom=False) # labels along the bottom edge are off'''"
   ]
  },
  {
   "cell_type": "code",
   "execution_count": 187,
   "metadata": {},
   "outputs": [
    {
     "data": {
      "image/png": "[encoded data removed]",
      "text/plain": [
       "<Figure size 432x288 with 2 Axes>"
      ]
     },
     "metadata": {
      "needs_background": "light"
     },
     "output_type": "display_data"
    }
   ],
   "source": [
    "axis_width = 0.4\n",
    "axis_height = 0.4\n",
    "horiz_space = 0.05\n",
    "\n",
    "fig = plt.figure()\n",
    "ax1 = fig.add_axes([0.1, 0.1, axis_width, axis_height],\n",
    "                   xticklabels=[], ylim=(0, 1.0), )\n",
    "#restyle(ax1)\n",
    "mybar(s1, 'A', s2, \"B\", \"YY\", ax=ax1)\n",
    "\n",
    "ax2 = fig.add_axes([0.1+(axis_width+horiz_space), 0.1, axis_width, axis_height],\n",
    "                    ylim=(0, 1.0), xlabel=\"hi\")\n",
    "#restyle(ax2)\n",
    "mybar(s1, \"A\", s2,\"B\", \"XX\", ax=ax2)\n",
    "\n",
    "firststyle(ax1)"
   ]
  },
  {
   "cell_type": "code",
   "execution_count": 13,
   "metadata": {},
   "outputs": [],
   "source": [
    "def firststyle(ax):\n",
    "    ax.spines['top'].set_visible(False)\n",
    "    ax.spines['right'].set_visible(False)\n",
    "    ax.spines['left'].set_visible(True)\n",
    "    ax.get_yaxis().set_visible(True)\n",
    "    ax.set_yticklabels([0.0,0.2,0.4,0.6,0.8,1.0])\n",
    "    ax.tick_params(\n",
    "        axis='x',          # changes apply to the x-axis\n",
    "        which='both',      # both major and minor ticks are affected\n",
    "        bottom=False,)      # ticks along the bottom edge are off\n",
    "    #ax.legend(loc=3)\n",
    "\n",
    "def restyle(ax):\n",
    "    ax.spines['top'].set_visible(False)\n",
    "    ax.spines['right'].set_visible(False)\n",
    "    ax.spines['left'].set_visible(False)\n",
    "    ax.get_yaxis().set_visible(False)\n",
    "    ax.tick_params(\n",
    "        axis='x',          # changes apply to the x-axis\n",
    "        which='both',      # both major and minor ticks are affected\n",
    "        bottom=False,)      # ticks along the bottom edge are off\n",
    "    ax.get_legend().remove()"
   ]
  },
  {
   "cell_type": "code",
   "execution_count": 48,
   "metadata": {},
   "outputs": [],
   "source": [
    "axis_width = 0.2\n",
    "axis_height = 0.4\n",
    "horiz_space = 0.05\n",
    "\n",
    "def profile_sentence(results, sentence, fig, offset=0):\n",
    "    sentence_ix = 0\n",
    "    plots = []\n",
    "    \n",
    "    margin=0.2\n",
    "    width_per_plot = (1.0-margin)/(len(sentence)-1)\n",
    "    \n",
    "    print(\"The label under each plot is the word being predicted at that step\")\n",
    "    for word_n in range(offset, len(sentence)-1):\n",
    "        instructs = results['instructions'][word_n]\n",
    "        \"\"\"\n",
    "        # for many sentences\n",
    "        push_strength = instructs.push_strengths.data[sentence_ix]\n",
    "        pop_strength = instructs.pop_strengths.data[sentence_ix]\n",
    "        read_strengths = instructs.read_strengths.data[sentence_ix]\n",
    "        pop_distribution = instructs.pop_distributions.data[sentence_ix,:]\n",
    "        read_distribution = instructs.read_distributions.data[sentence_ix,:]\n",
    "        \"\"\"\n",
    "        #for just one\n",
    "        push_strength = instructs.push_strengths.data\n",
    "        pop_strength = instructs.pop_strengths.data\n",
    "        read_strengths = instructs.read_strengths.data\n",
    "        pop_distribution = instructs.pop_distributions.data[sentence_ix,:]\n",
    "        read_distribution = instructs.read_distributions.data[sentence_ix,:]\n",
    "        \n",
    "        ax1 = fig.add_axes([margin/2.0 + word_n*width_per_plot, margin, 0.8*width_per_plot, 2*width_per_plot], \n",
    "                           ylim=(0, 1.0), xlabel=sentence[word_n])\n",
    "        label = \"Read: {0:.2f}\\nPop:{1:.2f}\\n{2}\".format(read_strengths, pop_strength, sentence[word_n+1])\n",
    "        mybar(read_distribution, \"Read Strength\", pop_distribution, \"Pop Strength\", label, ax=ax1)\n",
    "        restyle(ax1)\n",
    "        plots.append(ax1)\n",
    "        \n",
    "    firststyle(plots[0])\n",
    "        \n"
   ]
  },
  {
   "cell_type": "code",
   "execution_count": 59,
   "metadata": {},
   "outputs": [],
   "source": [
    "fig.add_axes?"
   ]
  },
  {
   "cell_type": "code",
   "execution_count": 50,
   "metadata": {},
   "outputs": [],
   "source": [
    "fig.add_axes?"
   ]
  },
  {
   "cell_type": "code",
   "execution_count": 49,
   "metadata": {},
   "outputs": [
    {
     "name": "stdout",
     "output_type": "stream",
     "text": [
      "The label under each plot is the word being predicted at that step\n"
     ]
    },
    {
     "data": {
      "image/png": "[encoded data removed]",
      "text/plain": [
       "<Figure size 432x288 with 3 Axes>"
      ]
     },
     "metadata": {
      "needs_background": "light"
     },
     "output_type": "display_data"
    }
   ],
   "source": [
    "from predict_trees import brown_predict\n",
    "\n",
    "sent = [\"AT\", \"NP\", \"NN\", \"JJ\", \"NN\", \"VB\", \"NN\", \"JJ\", \"NN\", \"VB\"]\n",
    "res = brown_predict(sent)\n",
    "\n",
    "fig = plt.figure()\n",
    "profile_sentence(res, sent, fig)"
   ]
  },
  {
   "cell_type": "code",
   "execution_count": 55,
   "metadata": {},
   "outputs": [],
   "source": [
    "AX1, AX2 = fig.subplots(2,1)"
   ]
  },
  {
   "cell_type": "code",
   "execution_count": 63,
   "metadata": {},
   "outputs": [
    {
     "ename": "NameError",
     "evalue": "name 'margin' is not defined",
     "output_type": "error",
     "traceback": [
      "\u001b[0;31m---------------------------------------------------------------------------\u001b[0m",
      "\u001b[0;31mNameError\u001b[0m                                 Traceback (most recent call last)",
      "\u001b[0;32m<ipython-input-63-2f303d92bc91>\u001b[0m in \u001b[0;36m<module>\u001b[0;34m\u001b[0m\n\u001b[0;32m----> 1\u001b[0;31m axes = fig.subplots(1,5,sharey=\"row\", subplot_kw={\"rect\":[margin/2.0 + word_n*width_per_plot, margin, 0.8*width_per_plot, 2*width_per_plot], \n\u001b[0m\u001b[1;32m      2\u001b[0m                            \"ylim\": (0, 1.0), \"xlabel\": sentence[word_n]})\n",
      "\u001b[0;31mNameError\u001b[0m: name 'margin' is not defined"
     ]
    }
   ],
   "source": [
    "margin=0.2\n",
    "axes = fig.subplots(1,5,sharey=\"row\", subplot_kw={\"rect\":[margin/2.0 + word_n*width_per_plot, margin, 0.8*width_per_plot, 2*width_per_plot], \n",
    "                           \"ylim\": (0, 1.0), \"xlabel\": sentence[word_n]})\n"
   ]
  },
  {
   "cell_type": "code",
   "execution_count": null,
   "metadata": {},
   "outputs": [],
   "source": [
    "rect : sequence of float\n",
    "    The dimensions [left, bottom, width, height] of the new axes. All\n",
    "    quantities are in fractions of figure width and height."
   ]
  },
  {
   "cell_type": "code",
   "execution_count": 62,
   "metadata": {},
   "outputs": [],
   "source": [
    "fig.subplots?"
   ]
  },
  {
   "cell_type": "code",
   "execution_count": 61,
   "metadata": {},
   "outputs": [],
   "source": []
  },
  {
   "cell_type": "code",
   "execution_count": null,
   "metadata": {},
   "outputs": [],
   "source": []
  }
 ],
 "metadata": {
  "kernelspec": {
   "display_name": "Python 3",
   "language": "python",
   "name": "python3"
  },
  "language_info": {
   "codemirror_mode": {
    "name": "ipython",
    "version": 3
   },
   "file_extension": ".py",
   "mimetype": "text/x-python",
   "name": "python",
   "nbconvert_exporter": "python",
   "pygments_lexer": "ipython3",
   "version": "3.6.3"
  }
 },
 "nbformat": 4,
 "nbformat_minor": 2
}
